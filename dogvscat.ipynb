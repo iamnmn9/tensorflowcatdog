{
  "nbformat": 4,
  "nbformat_minor": 0,
  "metadata": {
    "colab": {
      "name": "pundir_naman_proj2.ipynb",
      "provenance": [],
      "collapsed_sections": [],
      "toc_visible": true,
      "mount_file_id": "1EA2rDFBhnHNPjxEMmKowsNV9yf3UEF-Z",
      "authorship_tag": "ABX9TyPCpo9HFqN0GcOJuAXYNHpd",
      "include_colab_link": true
    },
    "kernelspec": {
      "name": "python3",
      "display_name": "Python 3"
    }
  },
  "cells": [
    {
      "cell_type": "markdown",
      "metadata": {
        "id": "view-in-github",
        "colab_type": "text"
      },
      "source": [
        "<a href=\"https://colab.research.google.com/github/namanpundir/tensorflowcatdog/blob/main/dogvscat.ipynb\" target=\"_parent\"><img src=\"https://colab.research.google.com/assets/colab-badge.svg\" alt=\"Open In Colab\"/></a>"
      ]
    },
    {
      "cell_type": "markdown",
      "metadata": {
        "id": "aPLosofNXQqC"
      },
      "source": [
        "# Project-2\n",
        "The task of this project is to use a deep neural network model to build a classifier that can classify images of different categories.\n",
        "\n",
        "Dataset: Dogs VS Cat\n"
      ]
    },
    {
      "cell_type": "markdown",
      "metadata": {
        "id": "WMfX-mYGW4wI"
      },
      "source": [
        "Name: Naman Pundir\n",
        "\n",
        "Email Id: namanpun@buffalo.edu\n",
        "\n",
        "UB Person ID: 50373843\n"
      ]
    },
    {
      "cell_type": "code",
      "metadata": {
        "id": "TItgWxeNjIYW"
      },
      "source": [
        "#importing libraries\n",
        "import numpy as np\n",
        "import pandas as pd\n",
        "import tensorflow as tf\n",
        "from tensorflow import keras\n",
        "from tensorflow.keras.preprocessing.image import ImageDataGenerator\n",
        "import os\n",
        "import logging\n",
        "logger = tf.get_logger()\n",
        "logger.setLevel(logging.ERROR)"
      ],
      "execution_count": 2,
      "outputs": []
    },
    {
      "cell_type": "code",
      "metadata": {
        "id": "B70XKktm2Tik"
      },
      "source": [
        "# importing libraries for Deep Learning\n",
        "from tensorflow.keras.models import Sequential\n",
        "from tensorflow.keras.layers import Conv2D, MaxPooling2D, Flatten, Dense, Dropout, Activation\n"
      ],
      "execution_count": 3,
      "outputs": []
    },
    {
      "cell_type": "code",
      "metadata": {
        "id": "2fqIkFhlWhig"
      },
      "source": [
        "test_dir=\"/content/drive/MyDrive/AI/proj2/dog vs cat/dataset/test_set\"\n",
        "train_dir=\"/content/drive/MyDrive/AI/proj2/dog vs cat/dataset/training_set\"\n",
        "\n",
        "train_dir_cats = train_dir + '/cats'\n",
        "train_dir_dogs = train_dir + '/dogs'\n",
        "test_dir_cats = test_dir + '/cats'\n",
        "test_dir_dogs = test_dir + '/dogs'"
      ],
      "execution_count": 4,
      "outputs": []
    },
    {
      "cell_type": "code",
      "metadata": {
        "colab": {
          "base_uri": "https://localhost:8080/"
        },
        "id": "pWnqz3_rW58O",
        "outputId": "aea6f6f8-5109-4251-a66f-f707d41b85de"
      },
      "source": [
        "print('number of cats training images - ',len(os.listdir(train_dir_cats)))\n",
        "print('number of dogs training images - ',len(os.listdir(train_dir_dogs)))\n",
        "print('number of cats testing images - ',len(os.listdir(test_dir_cats)))\n",
        "print('number of dogs testing images - ',len(os.listdir(test_dir_dogs)))\n"
      ],
      "execution_count": 5,
      "outputs": [
        {
          "output_type": "stream",
          "text": [
            "number of cats training images -  4000\n",
            "number of dogs training images -  4000\n",
            "number of cats testing images -  1000\n",
            "number of dogs testing images -  1000\n"
          ],
          "name": "stdout"
        }
      ]
    },
    {
      "cell_type": "code",
      "metadata": {
        "id": "w7Cd0eGTW-I2"
      },
      "source": [
        "data_generator = ImageDataGenerator(rescale = 1.0/255.0, zoom_range = 0.2)"
      ],
      "execution_count": 6,
      "outputs": []
    },
    {
      "cell_type": "code",
      "metadata": {
        "colab": {
          "base_uri": "https://localhost:8080/"
        },
        "id": "doZIegm-YVPH",
        "outputId": "821a7d9c-5d63-4aac-8b88-1f42207016e1"
      },
      "source": [
        "batch_size = 32\n",
        "training_data = data_generator.flow_from_directory(directory = train_dir,\n",
        "                                                   target_size = (64, 64),\n",
        "                                                   batch_size = batch_size,\n",
        "                                                   class_mode = 'binary')\n",
        "testing_data = data_generator.flow_from_directory(directory = test_dir,\n",
        "                                                  target_size = (64, 64),\n",
        "                                                  batch_size = batch_size,\n",
        "                                                  class_mode = 'binary')\n"
      ],
      "execution_count": 7,
      "outputs": [
        {
          "output_type": "stream",
          "text": [
            "Found 8000 images belonging to 2 classes.\n",
            "Found 2000 images belonging to 2 classes.\n"
          ],
          "name": "stdout"
        }
      ]
    },
    {
      "cell_type": "code",
      "metadata": {
        "id": "0kMzePsQYYeC"
      },
      "source": [
        "# preparing the layers in the Convolutional Deep Neural Network\n",
        "model = Sequential()\n",
        "model.add(Conv2D(filters = 32, kernel_size = (3, 3), activation = 'relu', input_shape = training_data.image_shape))\n",
        "model.add(MaxPooling2D(pool_size = (2, 2)))\n",
        "model.add(Dropout(rate = 0.3))\n",
        "model.add(Conv2D(filters = 64, kernel_size = (3, 3), activation = 'relu'))\n",
        "model.add(MaxPooling2D(pool_size = (2, 2)))\n",
        "model.add(Dropout(rate = 0.2))\n",
        "model.add(Conv2D(filters = 126, kernel_size = (3, 3), activation = 'relu'))\n",
        "model.add(MaxPooling2D(pool_size = (2, 2)))\n",
        "model.add(Dropout(rate = 0.15))\n",
        "model.add(Flatten())\n",
        "model.add(Dense(units = 32, activation = 'relu'))\n",
        "model.add(Dropout(rate = 0.15))\n",
        "model.add(Dense(units = 64, activation = 'relu'))\n",
        "model.add(Dropout(rate = 0.1))\n",
        "model.add(Dense(units = len(set(training_data.classes)), activation = 'softmax'))\n",
        "model.compile(optimizer = 'adam', loss = 'sparse_categorical_crossentropy', metrics = ['accuracy'])"
      ],
      "execution_count": 8,
      "outputs": []
    },
    {
      "cell_type": "code",
      "metadata": {
        "colab": {
          "base_uri": "https://localhost:8080/"
        },
        "id": "Hf4pHpIyYfRs",
        "outputId": "61d9b24f-4754-4bfc-ae12-2a8241056207"
      },
      "source": [
        "model.summary()"
      ],
      "execution_count": 9,
      "outputs": [
        {
          "output_type": "stream",
          "text": [
            "Model: \"sequential\"\n",
            "_________________________________________________________________\n",
            "Layer (type)                 Output Shape              Param #   \n",
            "=================================================================\n",
            "conv2d (Conv2D)              (None, 62, 62, 32)        896       \n",
            "_________________________________________________________________\n",
            "max_pooling2d (MaxPooling2D) (None, 31, 31, 32)        0         \n",
            "_________________________________________________________________\n",
            "dropout (Dropout)            (None, 31, 31, 32)        0         \n",
            "_________________________________________________________________\n",
            "conv2d_1 (Conv2D)            (None, 29, 29, 64)        18496     \n",
            "_________________________________________________________________\n",
            "max_pooling2d_1 (MaxPooling2 (None, 14, 14, 64)        0         \n",
            "_________________________________________________________________\n",
            "dropout_1 (Dropout)          (None, 14, 14, 64)        0         \n",
            "_________________________________________________________________\n",
            "conv2d_2 (Conv2D)            (None, 12, 12, 126)       72702     \n",
            "_________________________________________________________________\n",
            "max_pooling2d_2 (MaxPooling2 (None, 6, 6, 126)         0         \n",
            "_________________________________________________________________\n",
            "dropout_2 (Dropout)          (None, 6, 6, 126)         0         \n",
            "_________________________________________________________________\n",
            "flatten (Flatten)            (None, 4536)              0         \n",
            "_________________________________________________________________\n",
            "dense (Dense)                (None, 32)                145184    \n",
            "_________________________________________________________________\n",
            "dropout_3 (Dropout)          (None, 32)                0         \n",
            "_________________________________________________________________\n",
            "dense_1 (Dense)              (None, 64)                2112      \n",
            "_________________________________________________________________\n",
            "dropout_4 (Dropout)          (None, 64)                0         \n",
            "_________________________________________________________________\n",
            "dense_2 (Dense)              (None, 2)                 130       \n",
            "=================================================================\n",
            "Total params: 239,520\n",
            "Trainable params: 239,520\n",
            "Non-trainable params: 0\n",
            "_________________________________________________________________\n"
          ],
          "name": "stdout"
        }
      ]
    },
    {
      "cell_type": "code",
      "metadata": {
        "colab": {
          "base_uri": "https://localhost:8080/"
        },
        "id": "dEviEBrCqcgp",
        "outputId": "d48f8d4d-0cb6-40c0-a20d-7ee6a748d1ac"
      },
      "source": [
        "fitted_model = model.fit_generator(\n",
        "    training_data,\n",
        "    steps_per_epoch=training_data.samples//training_data.batch_size,\n",
        "    epochs=25,\n",
        "    validation_data=testing_data, validation_steps=testing_data.samples//testing_data.batch_size,\n",
        "    verbose=1)"
      ],
      "execution_count": null,
      "outputs": [
        {
          "output_type": "stream",
          "text": [
            "Epoch 1/25\n",
            "250/250 [==============================] - 112s 447ms/step - loss: 0.2307 - accuracy: 0.8989 - val_loss: 0.4081 - val_accuracy: 0.8281\n",
            "Epoch 2/25\n",
            "250/250 [==============================] - 115s 461ms/step - loss: 0.2262 - accuracy: 0.9075 - val_loss: 0.4068 - val_accuracy: 0.8306\n",
            "Epoch 3/25\n",
            "250/250 [==============================] - 105s 419ms/step - loss: 0.2194 - accuracy: 0.9049 - val_loss: 0.4095 - val_accuracy: 0.8221\n",
            "Epoch 4/25\n",
            "250/250 [==============================] - 106s 425ms/step - loss: 0.2284 - accuracy: 0.9028 - val_loss: 0.4237 - val_accuracy: 0.8281\n",
            "Epoch 5/25\n",
            "250/250 [==============================] - 107s 430ms/step - loss: 0.2238 - accuracy: 0.9034 - val_loss: 0.4250 - val_accuracy: 0.8211\n",
            "Epoch 6/25\n",
            "250/250 [==============================] - 107s 426ms/step - loss: 0.2141 - accuracy: 0.9071 - val_loss: 0.5219 - val_accuracy: 0.8070\n",
            "Epoch 7/25\n",
            "250/250 [==============================] - 108s 433ms/step - loss: 0.2201 - accuracy: 0.9049 - val_loss: 0.4395 - val_accuracy: 0.8140\n",
            "Epoch 8/25\n",
            "250/250 [==============================] - 108s 431ms/step - loss: 0.2264 - accuracy: 0.9050 - val_loss: 0.4164 - val_accuracy: 0.8261\n",
            "Epoch 9/25\n",
            "250/250 [==============================] - 108s 433ms/step - loss: 0.2146 - accuracy: 0.9065 - val_loss: 0.4297 - val_accuracy: 0.8286\n",
            "Epoch 10/25\n",
            "130/250 [==============>...............] - ETA: 43s - loss: 0.2070 - accuracy: 0.9166"
          ],
          "name": "stdout"
        }
      ]
    },
    {
      "cell_type": "code",
      "metadata": {
        "id": "L2fnjS2uYrFc",
        "colab": {
          "base_uri": "https://localhost:8080/",
          "height": 296
        },
        "outputId": "c62ee9c5-8caf-4007-d31a-8b0ea31d20bb"
      },
      "source": [
        "import matplotlib.pyplot as plt\n",
        "# plotting accuracy and validation accuracy\n",
        "accuracy = fitted_model.history['accuracy']\n",
        "plt.plot(range(len(accuracy)), accuracy, 'go', label = 'ACCURACY')\n",
        "plt.plot(fitted_model.history['val_accuracy'], label='testing accuracy')\n",
        "plt.xlabel('epochs')\n",
        "plt.ylabel('accuracy')\n",
        "plt.legend()"
      ],
      "execution_count": 14,
      "outputs": [
        {
          "output_type": "execute_result",
          "data": {
            "text/plain": [
              "<matplotlib.legend.Legend at 0x7f959c51aa20>"
            ]
          },
          "metadata": {
            "tags": []
          },
          "execution_count": 14
        },
        {
          "output_type": "display_data",
          "data": {
            "image/png": "[encoded data removed]",
            "text/plain": [
              "<Figure size 432x288 with 1 Axes>"
            ]
          },
          "metadata": {
            "tags": [],
            "needs_background": "light"
          }
        }
      ]
    },
    {
      "cell_type": "code",
      "metadata": {
        "id": "ynDE9cp94Gic",
        "colab": {
          "base_uri": "https://localhost:8080/",
          "height": 312
        },
        "outputId": "fa43be80-63d2-472e-e4fb-ee362e9df773"
      },
      "source": [
        "plt.plot(fitted_model.history['loss'], label='training loss')\n",
        "plt.plot(fitted_model.history['val_loss'], label='testing loss')\n",
        "plt.title('Loss')\n",
        "plt.xlabel('epochs')\n",
        "plt.ylabel('loss')\n",
        "plt.legend()"
      ],
      "execution_count": 15,
      "outputs": [
        {
          "output_type": "execute_result",
          "data": {
            "text/plain": [
              "<matplotlib.legend.Legend at 0x7f959c4d0710>"
            ]
          },
          "metadata": {
            "tags": []
          },
          "execution_count": 15
        },
        {
          "output_type": "display_data",
          "data": {
            "image/png": "[encoded data removed]",
            "text/plain": [
              "<Figure size 432x288 with 1 Axes>"
            ]
          },
          "metadata": {
            "tags": [],
            "needs_background": "light"
          }
        }
      ]
    }
  ]
}